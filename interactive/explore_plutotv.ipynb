{
 "cells": [
  {
   "cell_type": "code",
   "execution_count": null,
   "id": "5602a300",
   "metadata": {},
   "outputs": [],
   "source": [
    "from IPython.core.display import display, HTML\n",
    "display(HTML(\"<style>.container { width:100% !important; }</style>\"))\n",
    "\n",
    "import pprint, json\n",
    "import requests\n",
    "import datetime\n",
    "\n",
    "PLUTO_URL=\"http://api.pluto.tv/v2/channels?start=2022-02-20%2023%3A00%3A00.000%2B0100&stop=2022-02-22%2023%3A00%3A00.000%2B0100\"\n",
    "pluto=requests.get(PLUTO_URL)"
   ]
  },
  {
   "cell_type": "code",
   "execution_count": null,
   "id": "1f9357b0",
   "metadata": {},
   "outputs": [],
   "source": [
    "j=pluto.json()"
   ]
  },
  {
   "cell_type": "code",
   "execution_count": null,
   "id": "fd844c68",
   "metadata": {},
   "outputs": [],
   "source": [
    "slugs=[]\n",
    "for e in j:\n",
    "    slugs.append(e['slug'])\n",
    "slugs=sorted(list(set(slugs)))"
   ]
  },
  {
   "cell_type": "code",
   "execution_count": null,
   "id": "96638eb1",
   "metadata": {},
   "outputs": [],
   "source": [
    "slugs"
   ]
  },
  {
   "cell_type": "code",
   "execution_count": null,
   "id": "79aa6858",
   "metadata": {},
   "outputs": [],
   "source": [
    "my_channel_slugs=['pluto-tv-sci-fi-de','pluto-tv-sci-fi-de','pluto-tv-star-trek-de']\n",
    "my_channel_slugs=\"*\"\n",
    "my_channel_slugs\n",
    "my_series_slugs=['star-trek-discovery-de', 'star-trek-discovery-ptv2','star-trek-enterprise-de']"
   ]
  },
  {
   "cell_type": "code",
   "execution_count": null,
   "id": "1d393bf4",
   "metadata": {},
   "outputs": [],
   "source": [
    "i=0\n",
    "all=[]\n",
    "for e in j:\n",
    "    if my_channel_slugs ==\"*\" or e['slug'] in my_channel_slugs:\n",
    "        FORMATTER=\"(%s) %s = %d timelines\"\n",
    "        timelines = e.get('timelines',[])\n",
    "        print (FORMATTER % (e['slug'], e['name'], len(timelines)))\n",
    "        for tl in timelines:\n",
    "            #pprint.pprint(tl)\n",
    "            ep=tl['episode']\n",
    "            FORMATTER = \"s%02de%02d\"\n",
    "            season = ep.get('season',0)\n",
    "            exxsxx=FORMATTER % (season, ep['number'])\n",
    "            start = datetime.datetime.strptime(tl['start'][:19],\"%Y-%m-%dT%H:%M:%S\")\n",
    "            stop = datetime.datetime.strptime(tl['stop'][:19],\"%Y-%m-%dT%H:%M:%S\")\n",
    "            minutes = int((stop-start).total_seconds() / 60.0)\n",
    "            start_print = start.strftime(\"%H:%M %b %d\")\n",
    "            series_name = ep['series']['name']\n",
    "            series_slug = ep['series']['slug']\n",
    "            if \"Star\" not in series_name:\n",
    "                break\n",
    "            FORMATTER = \"%s %s '%s' %s mins '%s' [%s] %s\"\n",
    "            value=FORMATTER % (exxsxx, start_print, ep['name'], minutes,\n",
    "                               series_name, series_slug, e['slug'])\n",
    "            key=e['slug']+\"_%s\"%start\n",
    "            print(key)\n",
    "            print(value)\n",
    "            all.append((key,value))\n",
    "            i+=1\n",
    "        #break\n",
    "\n",
    "        \n",
    "print(\"%s elements\" % i)\n",
    "result = sorted(all, key=lambda x:x[0])\n",
    "print(\"\\n\".join(list(zip(*result))[1]))"
   ]
  },
  {
   "cell_type": "markdown",
   "id": "0543e532",
   "metadata": {},
   "source": [
    "zip(*result)"
   ]
  },
  {
   "cell_type": "code",
   "execution_count": null,
   "id": "55154120",
   "metadata": {},
   "outputs": [],
   "source": [
    "list(zip(*result))[1]"
   ]
  },
  {
   "cell_type": "code",
   "execution_count": null,
   "id": "495a3a94",
   "metadata": {},
   "outputs": [],
   "source": [
    "def timelines_in_channel(ch, print_channel_name=True):\n",
    "    timelines = ch.get('timelines',[])\n",
    "    if print_channel_name:\n",
    "        FORMATTER=\"(%s) %s = %d timelines\"        \n",
    "        print (FORMATTER % (ch['slug'], ch['name'], len(timelines)))\n",
    "    return timelines\n",
    "\n",
    "def exxsxx(ep):\n",
    "    FORMATTER = \"s%02de%02d\"\n",
    "    season = ep.get('season',0)\n",
    "    return FORMATTER % (season, ep['number'])\n",
    "\n",
    "def time_info(tl):\n",
    "    start = datetime.datetime.strptime(tl['start'][:19],\"%Y-%m-%dT%H:%M:%S\")\n",
    "    stop = datetime.datetime.strptime(tl['stop'][:19],\"%Y-%m-%dT%H:%M:%S\")\n",
    "    minutes = int((stop-start).total_seconds() / 60.0)\n",
    "    start_print = start.strftime(\"%H:%M %b %d\")\n",
    "    return start, start_print, minutes\n",
    "\n",
    "def series_info(ep):\n",
    "    series_name = ep['series']['name']\n",
    "    series_slug = ep['series']['slug']\n",
    "    return series_name, series_slug\n",
    "\n",
    "\n",
    "def iterate_pluto(j, find_in_series_name=\"Star\", my_channel_slugs=\"*\", print_channel_name=True, print_each_hit=True):\n",
    "    hits, ch_slugs, series_slugs = [],[],[]\n",
    "    for ch in j:\n",
    "        if my_channel_slugs ==\"*\" or ch['slug'] in my_channel_slugs:\n",
    "            timelines = timelines_in_channel(ch, print_channel_name)\n",
    "            for tl in timelines:\n",
    "                start, start_print, minutes = time_info(tl)\n",
    "                ep=tl['episode']\n",
    "                series_name, series_slug = series_info(ep)\n",
    "                \n",
    "                if find_in_series_name and (find_in_series_name not in series_name):\n",
    "                    break\n",
    "                \n",
    "                key=ch['slug']+\"_%s\"%start\n",
    "                # print(key)\n",
    "                \n",
    "                FORMATTER = \"%s %s '%s' %s mins '%s' [%s] %s\"\n",
    "                value=FORMATTER % (exxsxx(ep), start_print, ep['name'], minutes,\n",
    "                                   series_name, series_slug, ch['slug'])\n",
    "                if print_each_hit:\n",
    "                    print(value)\n",
    "                hits.append((key,value))\n",
    "                ch_slugs.append(ch['slug'])\n",
    "                series_slugs.append(series_slug)\n",
    "            #break\n",
    "\n",
    "    print(\"\\n#################################\\n%s elements.\\n\" % len(hits))\n",
    "    result = sorted(hits, key=lambda x:x[0])\n",
    "    return result, sorted(list(set(ch_slugs))), sorted(list(set(series_slugs)))\n",
    "\n",
    "result, channels, series = iterate_pluto(j, print_channel_name=False)\n",
    "print(\"\\n\".join(list(zip(*result))[1]))\n",
    "print (\"Series: %s\\nChannels: %s\" % (series, channels))"
   ]
  },
  {
   "cell_type": "code",
   "execution_count": null,
   "id": "c7ed9b90",
   "metadata": {},
   "outputs": [],
   "source": [
    "# careful 2750 answers:\n",
    "result, channels, series = iterate_pluto(j, find_in_series_name=False, print_each_hit=False)\n",
    "print(\"\\n\".join(list(zip(*result))[1]))\n",
    "print (\"\\n#################\\nSeries: %s\\n################\\nChannels: %s\" % (series, channels))"
   ]
  },
  {
   "cell_type": "code",
   "execution_count": null,
   "id": "ec336f1a",
   "metadata": {},
   "outputs": [],
   "source": [
    "# Everything with \"Discovery\":\n",
    "result, channels, series = iterate_pluto(j, find_in_series_name=\"Discovery\", print_each_hit=False)\n",
    "print(\"\\n\".join(list(zip(*result))[1]))\n",
    "print (\"\\n#################\\nSeries: %s\\n################\\nChannels: %s\" % (series, channels))"
   ]
  },
  {
   "cell_type": "code",
   "execution_count": 12,
   "id": "fa5bc829",
   "metadata": {},
   "outputs": [
    {
     "name": "stdout",
     "output_type": "stream",
     "text": [
      "\n",
      "#################################\n",
      "16 elements.\n",
      "\n",
      "s00e00 22:00 Feb 20 'Pluto TV Star Trek' 43 mins 'Pluto TV Star Trek' [no-info-available] pluto-tv-star-trek-de\n",
      "s04e01 22:43 Feb 20 'Kobayashi Maru' 63 mins 'Star Trek: Discovery' [star-trek-discovery-de] pluto-tv-star-trek-de\n",
      "s04e02 23:46 Feb 20 'Anomalie' 60 mins 'Star Trek: Discovery' [star-trek-discovery-de] pluto-tv-star-trek-de\n",
      "s04e08 00:46 Feb 21 'Alles oder nichts' 61 mins 'Star Trek: Discovery' [star-trek-discovery-de] pluto-tv-star-trek-de\n",
      "s04e09 01:47 Feb 21 'Rubikon' 51 mins 'Star Trek: Discovery' [star-trek-discovery-de] pluto-tv-star-trek-de\n",
      "s04e01 02:38 Feb 21 'Kobayashi Maru' 63 mins 'Star Trek: Discovery' [star-trek-discovery-de] pluto-tv-star-trek-de\n",
      "s04e02 03:41 Feb 21 'Anomalie' 60 mins 'Star Trek: Discovery' [star-trek-discovery-de] pluto-tv-star-trek-de\n",
      "s04e09 04:41 Feb 21 'Kir'Shara' 47 mins 'Star Trek: Enterprise' [star-trek-enterprise-de] pluto-tv-star-trek-de\n",
      "s04e10 05:28 Feb 21 'Daedalus' 47 mins 'Star Trek: Enterprise' [star-trek-enterprise-de] pluto-tv-star-trek-de\n",
      "s04e11 06:15 Feb 21 'Beobachtungseffekt' 47 mins 'Star Trek: Enterprise' [star-trek-enterprise-de] pluto-tv-star-trek-de\n",
      "s04e12 07:02 Feb 21 'Babel' 47 mins 'Star Trek: Enterprise' [star-trek-enterprise-de] pluto-tv-star-trek-de\n",
      "s04e13 07:49 Feb 21 'Vereinigt' 47 mins 'Star Trek: Enterprise' [star-trek-enterprise-de] pluto-tv-star-trek-de\n",
      "s04e14 08:36 Feb 21 'Die Aenar' 47 mins 'Star Trek: Enterprise' [star-trek-enterprise-de] pluto-tv-star-trek-de\n",
      "s04e15 09:23 Feb 21 'Die Heimsuchung' 47 mins 'Star Trek: Enterprise' [star-trek-enterprise-de] pluto-tv-star-trek-de\n",
      "s04e16 10:10 Feb 21 'Die Abweichung' 47 mins 'Star Trek: Enterprise' [star-trek-enterprise-de] pluto-tv-star-trek-de\n",
      "s04e17 10:57 Feb 21 'Die Verbindung' 47 mins 'Star Trek: Enterprise' [star-trek-enterprise-de] pluto-tv-star-trek-de\n",
      "#################\n",
      "Series: ['no-info-available', 'star-trek-discovery-de', 'star-trek-enterprise-de']\n",
      "################\n",
      "Channels: ['pluto-tv-star-trek-de']\n"
     ]
    }
   ],
   "source": [
    "# Everything with \"Star\":\n",
    "result, channels, series = iterate_pluto(j, find_in_series_name=\"Star\", print_each_hit=False, print_channel_name=False)\n",
    "print(\"\\n\".join(list(zip(*result))[1]))\n",
    "print (\"#################\\nSeries: %s\\n################\\nChannels: %s\" % (series, channels))"
   ]
  },
  {
   "cell_type": "code",
   "execution_count": null,
   "id": "cd5959ba",
   "metadata": {},
   "outputs": [],
   "source": []
  }
 ],
 "metadata": {
  "kernelspec": {
   "display_name": "py3.plutoalert",
   "language": "python",
   "name": "py3.plutoalert"
  },
  "language_info": {
   "codemirror_mode": {
    "name": "ipython",
    "version": 3
   },
   "file_extension": ".py",
   "mimetype": "text/x-python",
   "name": "python",
   "nbconvert_exporter": "python",
   "pygments_lexer": "ipython3",
   "version": "3.7.3"
  }
 },
 "nbformat": 4,
 "nbformat_minor": 5
}
