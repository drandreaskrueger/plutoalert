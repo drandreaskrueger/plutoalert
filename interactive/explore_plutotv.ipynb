{
 "cells": [
  {
   "cell_type": "code",
   "execution_count": null,
   "id": "5602a300",
   "metadata": {},
   "outputs": [],
   "source": [
    "from IPython.core.display import display, HTML\n",
    "display(HTML(\"<style>.container { width:100% !important; }</style>\"))\n",
    "\n",
    "import pprint, json\n",
    "import requests\n",
    "import datetime\n",
    "import urllib.parse\n",
    "\n",
    "# example URLs generated in https://github.com/evoactivity/PlutoIPTV\n",
    "PLUTO_URL=\"http://api.pluto.tv/v2/channels?start=2022-02-20%2023%3A00%3A00.000%2B0100&stop=2022-02-22%2023%3A00%3A00.000%2B0100\"\n",
    "PLUTO_URL=\"http://api.pluto.tv/v2/channels?start=2022-02-28%2020%3A00%3A00.000%2B0100&stop=2022-03-02%2020%3A00%3A00.000%2B0100\"\n",
    "print(urllib.parse.unquote(PLUTO_URL))"
   ]
  },
  {
   "cell_type": "code",
   "execution_count": null,
   "id": "029d13ed",
   "metadata": {},
   "outputs": [],
   "source": [
    "PLUTO_URL_TEMPLATE='http://api.pluto.tv/v2/channels?start={datetime_start}&stop={datetime_end}'\n",
    "def create_pluto_url(dt_start, dt_end, template=PLUTO_URL_TEMPLATE):\n",
    "    params = {\"datetime_start\": urllib.parse.quote(dt_start+\".000+0100\"),\n",
    "              \"datetime_end\":   urllib.parse.quote(dt_end+\".000+0100\")}\n",
    "    url=PLUTO_URL_TEMPLATE.format(**params)\n",
    "    return url\n",
    "\n",
    "def create_pluto_url_test():\n",
    "    # test = create_pluto_url(dt_start=\"2022-02-20 23:00:00\", dt_end=\"2022-02-22 23:00:00\")\n",
    "    test = create_pluto_url(dt_start=\"2022-02-28 20:00:00\", dt_end=\"2022-03-02 20:00:00\")\n",
    "    print(PLUTO_URL)\n",
    "    print(test)\n",
    "    return test==PLUTO_URL\n",
    "\n",
    "create_pluto_url_test()"
   ]
  },
  {
   "cell_type": "code",
   "execution_count": null,
   "id": "4c3ef629",
   "metadata": {},
   "outputs": [],
   "source": [
    "def pluto_url_around_now(pastdays=0, futuredays=2, time_of_day_string=\"20:00:00\"):\n",
    "    yesterday = datetime.datetime.now() - datetime.timedelta(days=pastdays)\n",
    "    yesterday_string = (\"%s\" % yesterday)[:11] + time_of_day_string\n",
    "    #print(yesterday_string)\n",
    "    the_day_after_tomorrow = datetime.datetime.now() + datetime.timedelta(days=futuredays)\n",
    "    tdat_string = (\"%s\" % the_day_after_tomorrow)[:11] + time_of_day_string\n",
    "    #print(tdat_string)\n",
    "    url = create_pluto_url(yesterday_string, tdat_string)\n",
    "    return url\n",
    "\n",
    "url = pluto_url_around_now()\n",
    "print (url)\n",
    "PLUTO_URL == url"
   ]
  },
  {
   "cell_type": "code",
   "execution_count": null,
   "id": "1f9357b0",
   "metadata": {},
   "outputs": [],
   "source": [
    "# url=\"http://api.pluto.tv/v2/channels?start=2022-02-27%2023%3A00%3A00.000%2B0100&stop=2022-03-01%2023%3A00%3A00.000%2B0100\"\n",
    "pluto=requests.get(url)\n",
    "j=pluto.json()\n",
    "if isinstance(j, dict) and j['statusCode']!=200:\n",
    "    pprint.pprint(j)\n",
    "else:\n",
    "    print(\"Success. Result list has %d elements.\" % len(j))"
   ]
  },
  {
   "cell_type": "code",
   "execution_count": null,
   "id": "fd844c68",
   "metadata": {},
   "outputs": [],
   "source": [
    "def extract_channel_slugs_only(j):\n",
    "    slugs=[]\n",
    "    for e in j:\n",
    "        slugs.append(e['slug'])\n",
    "    slugs=sorted(list(set(slugs)))\n",
    "    return slugs\n",
    "\n",
    "def print_with_newlines(j, func=extract_channel_slugs_only):\n",
    "    res = func(j)\n",
    "    print(\"\\n\".join(res))\n",
    "    print(\"#############\\n%d elements\" % len(res))\n",
    "\n",
    "print_with_newlines(j)"
   ]
  },
  {
   "cell_type": "code",
   "execution_count": null,
   "id": "66ae4fbc",
   "metadata": {},
   "outputs": [],
   "source": [
    "def extract_series_slugs_only(j):\n",
    "    slugs=[]\n",
    "    for ch in j:\n",
    "        timelines = ch.get('timelines',[])\n",
    "        for tl in timelines:\n",
    "            ep=tl['episode']\n",
    "            series_slug = ep['series']['slug']\n",
    "            slugs.append(series_slug)\n",
    "    slugs=sorted(list(set(slugs)))\n",
    "    return slugs\n",
    "\n",
    "print_with_newlines(j, extract_series_slugs_only)"
   ]
  },
  {
   "cell_type": "code",
   "execution_count": null,
   "id": "495a3a94",
   "metadata": {},
   "outputs": [],
   "source": [
    "def timelines_in_channel(ch, print_channel_name=True, FORMATTER=\"(%s) %s = %d timelines\"):\n",
    "    timelines = ch.get('timelines',[])\n",
    "    if print_channel_name:\n",
    "        print (FORMATTER % (ch['slug'], ch['name'], len(timelines)))\n",
    "    return timelines\n",
    "\n",
    "def exxsxx(ep, FORMATTER = \"s%02de%02d\"):\n",
    "    season = ep.get('season',0)\n",
    "    return FORMATTER % (season, ep['number'])\n",
    "\n",
    "def time_info(tl):\n",
    "    start = datetime.datetime.strptime(tl['start'][:19],\"%Y-%m-%dT%H:%M:%S\")\n",
    "    stop = datetime.datetime.strptime(tl['stop'][:19],\"%Y-%m-%dT%H:%M:%S\")\n",
    "    minutes = int((stop-start).total_seconds() / 60.0)\n",
    "    start_print = start.strftime(\"%H:%M %b %d\")\n",
    "    return start, start_print, minutes\n",
    "\n",
    "def series_info(ep):\n",
    "    series_name = ep['series']['name']\n",
    "    series_slug = ep['series']['slug']\n",
    "    return series_name, series_slug\n",
    "\n",
    "\n",
    "def compile_hit(ep, start_print, minutes,\n",
    "                series_name, series_slug, ch,\n",
    "                print_each_hit=False,\n",
    "                FORMATTER = \"%s %s '%s' %s mins '%s' [%s] %s\"):\n",
    "    value=FORMATTER % (exxsxx(ep), start_print, ep['name'], minutes,\n",
    "                       series_name, series_slug, ch['slug'])\n",
    "    if print_each_hit:\n",
    "        print(value)\n",
    "    return value\n",
    "\n",
    "\n",
    "def iterate_pluto(j, find_in_series_name=None, \n",
    "                  my_channel_slugs=[], my_series_slugs=[], \n",
    "                  print_channel_name=True, print_each_hit=False, print_count=True):\n",
    "    \n",
    "    hits, ch_slugs, series_slugs = [],[],[]\n",
    "    for ch in j:\n",
    "        if not my_channel_slugs or ch['slug'] in my_channel_slugs:\n",
    "            timelines = timelines_in_channel(ch, print_channel_name)\n",
    "            for tl in timelines:\n",
    "                ep=tl['episode']\n",
    "                series_name, series_slug = series_info(ep)\n",
    "                \n",
    "                if find_in_series_name and (find_in_series_name not in series_name):\n",
    "                    break\n",
    "                if my_series_slugs and (series_slug not in my_series_slugs):\n",
    "                    break\n",
    "\n",
    "                start, start_print, minutes = time_info(tl)\n",
    "                key=ch['slug']+\"_%s\"%start # unique key, only 1 thing per time on any channel?\n",
    "                \n",
    "                value = compile_hit(ep, start_print, minutes, \n",
    "                                    series_name, series_slug, ch,\n",
    "                                    print_each_hit=print_each_hit)\n",
    "                    \n",
    "                hits.append((key,value))\n",
    "                ch_slugs.append(ch['slug'])\n",
    "                series_slugs.append(series_slug)\n",
    "            #break\n",
    "    if print_count:\n",
    "        print(\"\\n#################################\\n%s elements.\\n\" % len(hits))\n",
    "        \n",
    "    result = sorted(hits, key=lambda x:x[0])\n",
    "    return result, sorted(list(set(ch_slugs))), sorted(list(set(series_slugs)))\n",
    "\n",
    "\n",
    "def print_result_series_channels(result, series, channels):\n",
    "    if not result:\n",
    "        print (\"EMPTY result\")\n",
    "    else:\n",
    "        print(\"\\n\".join(list(zip(*result))[1]))\n",
    "        print (\"Series: %s\\nChannels: %s\" % (series, channels))\n",
    "\n",
    "result, channels, series = iterate_pluto(j, print_channel_name=False, find_in_series_name=\"Star\")\n",
    "print_result_series_channels(result, series, channels)"
   ]
  },
  {
   "cell_type": "code",
   "execution_count": null,
   "id": "c7ed9b90",
   "metadata": {},
   "outputs": [],
   "source": [
    "def example_everything():\n",
    "    # careful 2840 answers:\n",
    "    result, channels, series = iterate_pluto(j, find_in_series_name=False, print_each_hit=False, print_channel_name=False)\n",
    "    print_result_series_channels(result, series, channels)\n",
    "example_everything()"
   ]
  },
  {
   "cell_type": "code",
   "execution_count": null,
   "id": "ec336f1a",
   "metadata": {},
   "outputs": [],
   "source": [
    "def example_Star_in_series_name():\n",
    "    result, channels, series = iterate_pluto(j, find_in_series_name=\"Star\", print_each_hit=False, print_channel_name=False)\n",
    "    print_result_series_channels(result, series, channels)\n",
    "example_Star_in_series_name()"
   ]
  },
  {
   "cell_type": "code",
   "execution_count": null,
   "id": "fa5bc829",
   "metadata": {},
   "outputs": [],
   "source": [
    "def example_Discovery_in_series_name():\n",
    "    result, channels, series = iterate_pluto(j, find_in_series_name=\"Discovery\", print_each_hit=False, print_channel_name=False)\n",
    "    print_result_series_channels(result, series, channels)\n",
    "    \n",
    "example_Discovery_in_series_name()"
   ]
  },
  {
   "cell_type": "code",
   "execution_count": null,
   "id": "cd5959ba",
   "metadata": {},
   "outputs": [],
   "source": [
    "def example_DoctorWho_in_series_name():\n",
    "    result, channels, series = iterate_pluto(j, find_in_series_name=\"Doctor Who\", print_each_hit=False, print_channel_name=False)\n",
    "    print_result_series_channels(result, series, channels)\n",
    "example_DoctorWho_in_series_name()"
   ]
  },
  {
   "cell_type": "code",
   "execution_count": null,
   "id": "a1265d07",
   "metadata": {},
   "outputs": [],
   "source": [
    "my_channel_slugs=['pluto-tv-sci-fi-de','pluto-tv-star-trek-de', 'doctor-who-classic-de']\n",
    "my_series_slugs=['star-trek-discovery-de', 'star-trek-discovery-ptv2','star-trek-enterprise-de']"
   ]
  },
  {
   "cell_type": "code",
   "execution_count": null,
   "id": "3e020997",
   "metadata": {},
   "outputs": [],
   "source": [
    "def example_my_channel_slugs(my_channel_slugs=my_channel_slugs):\n",
    "    result, channels, series = iterate_pluto(j, \n",
    "                                             my_channel_slugs=my_channel_slugs,\n",
    "                                             print_each_hit=False, print_channel_name=False)\n",
    "    print_result_series_channels(result, series, channels)\n",
    "example_my_channel_slugs()"
   ]
  },
  {
   "cell_type": "code",
   "execution_count": null,
   "id": "0cc76fb2",
   "metadata": {},
   "outputs": [],
   "source": [
    "def example_my_channel_slugs_and_series_slugs(my_channel_slugs=my_channel_slugs, my_series_slugs=my_series_slugs):\n",
    "    result, channels, series = iterate_pluto(j, \n",
    "                                             my_channel_slugs=my_channel_slugs,\n",
    "                                             my_series_slugs=my_series_slugs,\n",
    "                                             print_each_hit=False, print_channel_name=False)\n",
    "    print_result_series_channels(result, series, channels)\n",
    "example_my_channel_slugs_and_series_slugs()"
   ]
  },
  {
   "cell_type": "code",
   "execution_count": null,
   "id": "3b16ead7",
   "metadata": {},
   "outputs": [],
   "source": [
    "def the_purpose_of_all_this_v1():\n",
    "    result, channels, series = iterate_pluto(j, \n",
    "                                             my_channel_slugs=my_channel_slugs,\n",
    "                                             my_series_slugs=my_series_slugs,\n",
    "                                             print_each_hit=False, print_channel_name=False, print_count=False)\n",
    "    print_result_series_channels(result, series, channels)\n",
    "the_purpose_of_all_this_v1()"
   ]
  },
  {
   "cell_type": "code",
   "execution_count": null,
   "id": "54429b71",
   "metadata": {},
   "outputs": [],
   "source": [
    "def the_purpose_of_all_this_v2():\n",
    "    # Everything with \"Star Trek\":\n",
    "    result, channels, series = iterate_pluto(j, find_in_series_name=\"Star Trek\", print_each_hit=False, print_channel_name=False, print_count=False)\n",
    "    print_result_series_channels(result, series, channels)\n",
    "the_purpose_of_all_this_v2()"
   ]
  },
  {
   "cell_type": "code",
   "execution_count": null,
   "id": "c25bd883",
   "metadata": {},
   "outputs": [],
   "source": []
  }
 ],
 "metadata": {
  "kernelspec": {
   "display_name": "py3.plutoalert",
   "language": "python",
   "name": "py3.plutoalert"
  },
  "language_info": {
   "codemirror_mode": {
    "name": "ipython",
    "version": 3
   },
   "file_extension": ".py",
   "mimetype": "text/x-python",
   "name": "python",
   "nbconvert_exporter": "python",
   "pygments_lexer": "ipython3",
   "version": "3.7.3"
  }
 },
 "nbformat": 4,
 "nbformat_minor": 5
}
