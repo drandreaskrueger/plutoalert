{
 "cells": [
  {
   "cell_type": "code",
   "execution_count": null,
   "id": "5602a300",
   "metadata": {},
   "outputs": [],
   "source": [
    "from IPython.core.display import display, HTML\n",
    "display(HTML(\"<style>.container { width:100% !important; }</style>\"))\n",
    "\n",
    "import pprint, json\n",
    "import requests\n",
    "import datetime\n",
    "import urllib.parse\n",
    "\n",
    "# example URLs generated in https://github.com/evoactivity/PlutoIPTV\n",
    "PLUTO_URL=\"http://api.pluto.tv/v2/channels?start=2022-02-20%2023%3A00%3A00.000%2B0100&stop=2022-02-22%2023%3A00%3A00.000%2B0100\"\n",
    "PLUTO_URL=\"http://api.pluto.tv/v2/channels?start=2022-02-28%2020%3A00%3A00.000%2B0100&stop=2022-03-02%2020%3A00%3A00.000%2B0100\"\n",
    "print(urllib.parse.unquote(PLUTO_URL))"
   ]
  },
  {
   "cell_type": "code",
   "execution_count": null,
   "id": "029d13ed",
   "metadata": {},
   "outputs": [],
   "source": [
    "PLUTO_URL_TEMPLATE='http://api.pluto.tv/v2/channels?start={datetime_start}&stop={datetime_end}'\n",
    "def create_pluto_url(dt_start, dt_end, template=PLUTO_URL_TEMPLATE):\n",
    "    params = {\"datetime_start\": urllib.parse.quote(dt_start+\".000+0100\"),\n",
    "              \"datetime_end\":   urllib.parse.quote(dt_end+\".000+0100\")}\n",
    "    url=PLUTO_URL_TEMPLATE.format(**params)\n",
    "    return url\n",
    "\n",
    "def create_pluto_url_test():\n",
    "    # test = create_pluto_url(dt_start=\"2022-02-20 23:00:00\", dt_end=\"2022-02-22 23:00:00\")\n",
    "    test = create_pluto_url(dt_start=\"2022-02-28 20:00:00\", dt_end=\"2022-03-02 20:00:00\")\n",
    "    print(PLUTO_URL)\n",
    "    print(test)\n",
    "    return test==PLUTO_URL\n",
    "\n",
    "create_pluto_url_test()"
   ]
  },
  {
   "cell_type": "code",
   "execution_count": null,
   "id": "4c3ef629",
   "metadata": {},
   "outputs": [],
   "source": [
    "def pluto_url_around_now(pastdays=0, futuredays=2, time_of_day_string=\"20:00:00\"):\n",
    "    yesterday = datetime.datetime.now() - datetime.timedelta(days=pastdays)\n",
    "    yesterday_string = (\"%s\" % yesterday)[:11] + time_of_day_string\n",
    "    #print(yesterday_string)\n",
    "    the_day_after_tomorrow = datetime.datetime.now() + datetime.timedelta(days=futuredays)\n",
    "    tdat_string = (\"%s\" % the_day_after_tomorrow)[:11] + time_of_day_string\n",
    "    #print(tdat_string)\n",
    "    url = create_pluto_url(yesterday_string, tdat_string)\n",
    "    return url\n",
    "\n",
    "url = pluto_url_around_now()\n",
    "print (url)\n",
    "PLUTO_URL == url"
   ]
  },
  {
   "cell_type": "code",
   "execution_count": null,
   "id": "1f9357b0",
   "metadata": {},
   "outputs": [],
   "source": [
    "# url=\"http://api.pluto.tv/v2/channels?start=2022-02-27%2023%3A00%3A00.000%2B0100&stop=2022-03-01%2023%3A00%3A00.000%2B0100\"\n",
    "pluto=requests.get(url)\n",
    "j=pluto.json()\n",
    "if isinstance(j, dict) and j['statusCode']!=200:\n",
    "    pprint.pprint(j)\n",
    "else:\n",
    "    print(\"Success. Result list has %d elements.\" % len(j))"
   ]
  },
  {
   "cell_type": "code",
   "execution_count": null,
   "id": "fd844c68",
   "metadata": {},
   "outputs": [],
   "source": [
    "def extract_channel_slugs_only(j):\n",
    "    slugs=[]\n",
    "    for e in j:\n",
    "        slugs.append(e['slug'])\n",
    "    slugs=sorted(list(set(slugs)))\n",
    "    return slugs\n",
    "\n",
    "def print_with_newlines(j, func=extract_channel_slugs_only):\n",
    "    print(\"\\n\".join(func(j)))\n",
    "\n",
    "print(print_with_newlines(j))"
   ]
  },
  {
   "cell_type": "code",
   "execution_count": null,
   "id": "fecadfbd",
   "metadata": {},
   "outputs": [],
   "source": [
    "def extract_series_slugs_only(j):\n",
    "    slugs=[]\n",
    "    for ch in j:\n",
    "        timelines = ch.get('timelines',[])\n",
    "        for tl in timelines:\n",
    "            ep=tl['episode']\n",
    "            series_slug = ep['series']['slug']\n",
    "            slugs.append(series_slug)\n",
    "    slugs=sorted(list(set(slugs)))\n",
    "    return slugs\n",
    "\n",
    "print(print_with_newlines(j, extract_series_slugs_only))"
   ]
  },
  {
   "cell_type": "code",
   "execution_count": null,
   "id": "1d393bf4",
   "metadata": {},
   "outputs": [],
   "source": [
    "i=0\n",
    "all,result=[],[]\n",
    "for e in j:\n",
    "    if my_channel_slugs ==\"*\" or e['slug'] in my_channel_slugs:\n",
    "        FORMATTER=\"(%s) %s = %d timelines\"\n",
    "        timelines = e.get('timelines',[])\n",
    "        print (FORMATTER % (e['slug'], e['name'], len(timelines)))\n",
    "        for tl in timelines:\n",
    "            # pprint.pprint(tl); break\n",
    "            ep=tl['episode']\n",
    "            FORMATTER = \"s%02de%02d\"\n",
    "            season = ep.get('season',0)\n",
    "            exxsxx=FORMATTER % (season, ep['number'])\n",
    "            start = datetime.datetime.strptime(tl['start'][:19],\"%Y-%m-%dT%H:%M:%S\")\n",
    "            stop = datetime.datetime.strptime(tl['stop'][:19],\"%Y-%m-%dT%H:%M:%S\")\n",
    "            minutes = int((stop-start).total_seconds() / 60.0)\n",
    "            start_print = start.strftime(\"%H:%M %b %d\")\n",
    "            series_name = ep['series']['name']\n",
    "            series_slug = ep['series']['slug']\n",
    "            if \"Star\" not in series_name:\n",
    "                break\n",
    "            FORMATTER = \"%s %s '%s' %s mins '%s' [%s] %s\"\n",
    "            value=FORMATTER % (exxsxx, start_print, ep['name'], minutes,\n",
    "                               series_name, series_slug, e['slug'])\n",
    "            key=e['slug']+\"_%s\"%start\n",
    "            print(key)\n",
    "            print(value)\n",
    "            all.append((key,value))\n",
    "            i+=1\n",
    "        #break\n",
    "\n",
    "if not result:\n",
    "    print (\"\\n#############\\nEMPTY results\")\n",
    "else:\n",
    "    print(\"%s elements\" % i)\n",
    "    result = sorted(all, key=lambda x:x[0])\n",
    "    print(\"\\n\".join(list(zip(*result))[1]))"
   ]
  },
  {
   "cell_type": "code",
   "execution_count": null,
   "id": "ef60e67d",
   "metadata": {},
   "outputs": [],
   "source": [
    "my_channel_slugs=['pluto-tv-sci-fi-de','pluto-tv-star-trek-de', 'doctor-who-classic-de']\n",
    "# my_channel_slugs=\"*\"\n",
    "my_channel_slugs\n",
    "my_series_slugs=['star-trek-discovery-de', 'star-trek-discovery-ptv2','star-trek-enterprise-de']\n",
    "my_series_slugs=None"
   ]
  },
  {
   "cell_type": "code",
   "execution_count": null,
   "id": "495a3a94",
   "metadata": {},
   "outputs": [],
   "source": [
    "def timelines_in_channel(ch, print_channel_name=True):\n",
    "    timelines = ch.get('timelines',[])\n",
    "    if print_channel_name:\n",
    "        FORMATTER=\"(%s) %s = %d timelines\"        \n",
    "        print (FORMATTER % (ch['slug'], ch['name'], len(timelines)))\n",
    "    return timelines\n",
    "\n",
    "def exxsxx(ep):\n",
    "    FORMATTER = \"s%02de%02d\"\n",
    "    season = ep.get('season',0)\n",
    "    return FORMATTER % (season, ep['number'])\n",
    "\n",
    "def time_info(tl):\n",
    "    start = datetime.datetime.strptime(tl['start'][:19],\"%Y-%m-%dT%H:%M:%S\")\n",
    "    stop = datetime.datetime.strptime(tl['stop'][:19],\"%Y-%m-%dT%H:%M:%S\")\n",
    "    minutes = int((stop-start).total_seconds() / 60.0)\n",
    "    start_print = start.strftime(\"%H:%M %b %d\")\n",
    "    return start, start_print, minutes\n",
    "\n",
    "def series_info(ep):\n",
    "    series_name = ep['series']['name']\n",
    "    series_slug = ep['series']['slug']\n",
    "    return series_name, series_slug\n",
    "\n",
    "def iterate_pluto(j, find_in_series_name=None, my_channel_slugs=\"*\", print_channel_name=True, print_each_hit=False):\n",
    "    hits, ch_slugs, series_slugs = [],[],[]\n",
    "    for ch in j:\n",
    "        if my_channel_slugs ==\"*\" or ch['slug'] in my_channel_slugs:\n",
    "            timelines = timelines_in_channel(ch, print_channel_name)\n",
    "            for tl in timelines:\n",
    "                start, start_print, minutes = time_info(tl)\n",
    "                ep=tl['episode']\n",
    "                series_name, series_slug = series_info(ep)\n",
    "                \n",
    "                if find_in_series_name and (find_in_series_name not in series_name):\n",
    "                    break\n",
    "                \n",
    "                key=ch['slug']+\"_%s\"%start\n",
    "                # print(key)\n",
    "                \n",
    "                FORMATTER = \"%s %s '%s' %s mins '%s' [%s] %s\"\n",
    "                value=FORMATTER % (exxsxx(ep), start_print, ep['name'], minutes,\n",
    "                                   series_name, series_slug, ch['slug'])\n",
    "                if print_each_hit:\n",
    "                    print(value)\n",
    "                hits.append((key,value))\n",
    "                ch_slugs.append(ch['slug'])\n",
    "                series_slugs.append(series_slug)\n",
    "            #break\n",
    "\n",
    "    print(\"\\n#################################\\n%s elements.\\n\" % len(hits))\n",
    "    result = sorted(hits, key=lambda x:x[0])\n",
    "    return result, sorted(list(set(ch_slugs))), sorted(list(set(series_slugs)))\n",
    "\n",
    "result, channels, series = iterate_pluto(j, print_channel_name=False, find_in_series_name=\"Star\")\n",
    "print(\"\\n\".join(list(zip(*result))[1]))\n",
    "print (\"Series: %s\\nChannels: %s\" % (series, channels))"
   ]
  },
  {
   "cell_type": "code",
   "execution_count": null,
   "id": "c7ed9b90",
   "metadata": {},
   "outputs": [],
   "source": [
    "# careful 2840 answers:\n",
    "result, channels, series = iterate_pluto(j, find_in_series_name=False, print_each_hit=False, print_channel_name=False)\n",
    "print(\"\\n\".join(list(zip(*result))[1]))\n",
    "print (\"\\n#################\\nSeries: %s\\n################\\nChannels: %s\" % (series, channels))"
   ]
  },
  {
   "cell_type": "code",
   "execution_count": null,
   "id": "ec336f1a",
   "metadata": {},
   "outputs": [],
   "source": [
    "# Everything with \"Discovery\":\n",
    "result, channels, series = iterate_pluto(j, find_in_series_name=\"Star Trek\", print_each_hit=False, print_channel_name=False)\n",
    "if not result:\n",
    "    print (\"EMPTY result\")\n",
    "else:\n",
    "    print(\"\\n\".join(list(zip(*result))[1]))\n",
    "    print (\"\\n#################\\nSeries: %s\\n################\\nChannels: %s\" % (series, channels))"
   ]
  },
  {
   "cell_type": "code",
   "execution_count": null,
   "id": "fa5bc829",
   "metadata": {},
   "outputs": [],
   "source": [
    "# Everything with \"Star\":\n",
    "result, channels, series = iterate_pluto(j, find_in_series_name=\"Star\", print_each_hit=False, print_channel_name=False)\n",
    "print(\"\\n\".join(list(zip(*result))[1]))\n",
    "print (\"#################\\nSeries: %s\\n################\\nChannels: %s\" % (series, channels))"
   ]
  },
  {
   "cell_type": "code",
   "execution_count": null,
   "id": "cd5959ba",
   "metadata": {},
   "outputs": [],
   "source": [
    "result, channels, series = iterate_pluto(j, find_in_series_name=\"Doctor Who\", print_each_hit=False, print_channel_name=False)\n",
    "print(\"\\n\".join(list(zip(*result))[1]))\n",
    "print (\"#################\\nSeries: %s\\n################\\nChannels: %s\" % (series, channels))"
   ]
  },
  {
   "cell_type": "code",
   "execution_count": null,
   "id": "a1265d07",
   "metadata": {},
   "outputs": [],
   "source": []
  }
 ],
 "metadata": {
  "kernelspec": {
   "display_name": "py3.plutoalert",
   "language": "python",
   "name": "py3.plutoalert"
  },
  "language_info": {
   "codemirror_mode": {
    "name": "ipython",
    "version": 3
   },
   "file_extension": ".py",
   "mimetype": "text/x-python",
   "name": "python",
   "nbconvert_exporter": "python",
   "pygments_lexer": "ipython3",
   "version": "3.7.3"
  }
 },
 "nbformat": 4,
 "nbformat_minor": 5
}
