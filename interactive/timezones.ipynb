{
 "cells": [
  {
   "cell_type": "code",
   "execution_count": 1,
   "id": "304099d2",
   "metadata": {},
   "outputs": [],
   "source": [
    "import datetime\n",
    "import pytz # pip install tzlocal pytz\n",
    "from tzlocal import get_localzone # pip install tzlocal"
   ]
  },
  {
   "cell_type": "code",
   "execution_count": 2,
   "id": "fb6a979f",
   "metadata": {},
   "outputs": [
    {
     "name": "stdout",
     "output_type": "stream",
     "text": [
      "02:33 Mar 02 UTC\n",
      "03:33 Mar 02 CET\n"
     ]
    }
   ],
   "source": [
    "start_in=\"2022-03-02T02:33:00.000Z\"\n",
    "start = datetime.datetime.strptime(start_in[:19]+\" +0000\", \"%Y-%m-%dT%H:%M:%S %z\")\n",
    "print(start.strftime(\"%H:%M %b %d %Z\"))\n",
    "\n",
    "start_localtime = start.astimezone(get_localzone())\n",
    "start_print = start_localtime.strftime(\"%H:%M %b %d %Z\")\n",
    "print(start_print)"
   ]
  }
 ],
 "metadata": {
  "kernelspec": {
   "display_name": "py3.plutoalert",
   "language": "python",
   "name": "py3.plutoalert"
  },
  "language_info": {
   "codemirror_mode": {
    "name": "ipython",
    "version": 3
   },
   "file_extension": ".py",
   "mimetype": "text/x-python",
   "name": "python",
   "nbconvert_exporter": "python",
   "pygments_lexer": "ipython3",
   "version": "3.7.3"
  }
 },
 "nbformat": 4,
 "nbformat_minor": 5
}
